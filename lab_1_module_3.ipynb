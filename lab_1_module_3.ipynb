{
  "nbformat": 4,
  "nbformat_minor": 0,
  "metadata": {
    "colab": {
      "provenance": [],
      "authorship_tag": "ABX9TyNupyqkKA0EELm+wIPBky78",
      "include_colab_link": true
    },
    "kernelspec": {
      "name": "python3",
      "display_name": "Python 3"
    },
    "language_info": {
      "name": "python"
    }
  },
  "cells": [
    {
      "cell_type": "markdown",
      "metadata": {
        "id": "view-in-github",
        "colab_type": "text"
      },
      "source": [
        "<a href=\"https://colab.research.google.com/github/harshithareddy2929/FMML_Project_and_Labs/blob/main/lab_1_module_3.ipynb\" target=\"_parent\"><img src=\"https://colab.research.google.com/assets/colab-badge.svg\" alt=\"Open In Colab\"/></a>"
      ]
    },
    {
      "cell_type": "code",
      "execution_count": null,
      "metadata": {
        "id": "AxzPf8QEtTBv"
      },
      "outputs": [],
      "source": []
    },
    {
      "cell_type": "markdown",
      "source": [
        "#Questions:\n",
        "#1.How are similarity and distance different from each other?\n",
        "Similarity and distance are concepts used in various fields, including mathematics, statistics, and data analysis, to quantify the relationship between objects or data points. They are related but represent opposite perspectives. Here's how they differ:\n",
        "\n",
        "#Similarity:\n",
        "\n",
        "Similarity measures how much two objects or data points are alike or have common characteristics.\n",
        "\n",
        "It provides a value that is high when the objects are very similar and low when they are dissimilar.\n",
        "\n",
        "Similarity is typically a positive value, with higher values indicating higher similarity.\n",
        "\n",
        "Common similarity metrics include cosine similarity, Jaccard similarity, and Pearson correlation coefficient.\n",
        "\n",
        "It is often used in tasks like recommendation systems, clustering, and classification, where you want to find objects that are similar to a given reference.\n",
        "#Distance:\n",
        "\n",
        "Distance, on the other hand, measures how different or far apart two objects or data points are from each other.\n",
        "\n",
        "It provides a value that is low when the objects are close together and high when they are distant.\n",
        "\n",
        "Distance is typically a non-negative value, with smaller values indicating greater proximity.\n",
        "\n",
        "Common distance metrics include Euclidean distance, Manhattan distance, and Mahalanobis distance.\n",
        "\n",
        "Distance is frequently used in clustering,\n",
        "classification, and optimization problems, where you need to quantify the dissimilarity or separation between data points.\n",
        "\n",
        "In summary, similarity quantifies how much two objects are alike, with higher values indicating greater similarity, while distance quantifies how far apart two objects are, with smaller values indicating greater proximity. The choice between similarity or distance depends on the specific problem and the context in which they are being used.\n",
        "\n",
        "#2.Are there any conditions for a particular distance to be considered a \"distance metric\"?\n",
        "Yes, there are specific conditions that a function must satisfy to be considered a \"distance metric\" or a \"metric\" in mathematics. In the context of distance metrics, the function should meet the following criteria:\n",
        "\n",
        "1)Non-negativity: The distance between any two points should always be a non-negative value. Mathematically, for all points x and y, the distance function D(x, y) should satisfy D(x, y) ≥ 0.\n",
        "\n",
        "2)Identity of indiscernibles: The distance between two points is zero if and only if the two points are the same. In mathematical terms, for all points x and y, D(x, y) = 0 if and only if x = y.\n",
        "\n",
        "3)Symmetry: The distance between two points should be the same regardless of the order in which they are considered. In other words, for all points x and y, D(x, y) = D(y, x).\n",
        "\n",
        "4)Triangle inequality: The distance between any two points, along with an intermediate point, should be greater than or equal to the sum of the distances between the original points and the intermediate point. In mathematical terms, for all points x, y, and z, D(x, y) + D(y, z) ≥ D(x, z).\n",
        "\n",
        "A function that satisfies these four conditions is considered a true distance metric and can be used in various mathematical and computational contexts, such as clustering, optimization, and similarity analysis. Common examples of distance metrics that meet these criteria include the Euclidean distance, Manhattan distance, and Minkowski distance. It's important to ensure that a function adheres to these conditions when working with distance metrics to maintain the desired properties and interpretations of distance in mathematical and computational applications.\n",
        "\n",
        "\n",
        "\n"
      ],
      "metadata": {
        "id": "RKQW9fxwtT30"
      }
    },
    {
      "cell_type": "markdown",
      "source": [],
      "metadata": {
        "id": "3TqQjisgwzZ7"
      }
    }
  ]
}