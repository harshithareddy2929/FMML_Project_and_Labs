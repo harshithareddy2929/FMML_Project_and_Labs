{
  "nbformat": 4,
  "nbformat_minor": 0,
  "metadata": {
    "colab": {
      "provenance": [],
      "authorship_tag": "ABX9TyMSgRhoz9t/ml6S7a4KtdbN",
      "include_colab_link": true
    },
    "kernelspec": {
      "name": "python3",
      "display_name": "Python 3"
    },
    "language_info": {
      "name": "python"
    }
  },
  "cells": [
    {
      "cell_type": "markdown",
      "metadata": {
        "id": "view-in-github",
        "colab_type": "text"
      },
      "source": [
        "<a href=\"https://colab.research.google.com/github/harshithareddy2929/FMML_Project_and_Labs/blob/main/lab_4_module_2.ipynb\" target=\"_parent\"><img src=\"https://colab.research.google.com/assets/colab-badge.svg\" alt=\"Open In Colab\"/></a>"
      ]
    },
    {
      "cell_type": "code",
      "execution_count": null,
      "metadata": {
        "id": "qdN7esnPD82g"
      },
      "outputs": [],
      "source": []
    },
    {
      "cell_type": "markdown",
      "source": [
        "#QUESTIONS:\n",
        "Now that you understand t-SNE a bit better, can you point out some differences between PCA and t-SNE. What are the advantages/disadvantages of one over the other?\n",
        "\n",
        "Pointers:\n",
        "1)Which of the two algorithms is linear and which one is non-linear?\n",
        "\n",
        "2)How does the non-linearity in one of these two algorithms help in capturing certain data sets?\n",
        "\n",
        "3)PCA is known to keep points which were further apart in the higher dimension, far apart in the lower dimension as well. Does t-SNE do the same? Or does it try to preserve local neighbourhood?\n",
        "\n",
        "4)Can you comment on which one of the two is computationally more expensive?\n",
        "#Answers:\n",
        "1) PCA is a linear dimensionality reduction technique, whereas t-SNE is a non-linear dimensionality reduction technique.\n",
        "\n",
        "2) The non-linearity in algorithms like t-SNE helps in capturing complex relationships and preserving local structures in high-dimensional data, making it effective for visualizing clusters or patterns that may not be well represented by linear methods like PCA. This is particularly useful for datasets with intricate, non-linear relationships between features, as it can reveal subtle similarities and groupings that might be overlooked by linear techniques.\n",
        "\n",
        "3) t-SNE aims to preserve local neighborhood relationships in the data. Unlike PCA, which primarily focuses on preserving global distances, t-SNE is designed to emphasize the preservation of local structures. This means that data points that are close to each other in the original high-dimensional space are more likely to be close to each other in the low-dimensional representation produced by t-SNE. However, it's important to note that t-SNE does not necessarily preserve global distances, so the relative positions of points in the lower-dimensional space may not accurately reflect their distances in the original high-dimensional space.\n",
        "\n",
        "4) t-SNE is computationally more expensive compared to PCA. The algorithm for t-SNE involves multiple iterations and computations to find the best representation of data in the lower-dimensional space. This can be particularly resource-intensive for large datasets"
      ],
      "metadata": {
        "id": "jgwCx6qHD9Td"
      }
    },
    {
      "cell_type": "markdown",
      "source": [],
      "metadata": {
        "id": "Y8kA03zDFHmS"
      }
    }
  ]
}