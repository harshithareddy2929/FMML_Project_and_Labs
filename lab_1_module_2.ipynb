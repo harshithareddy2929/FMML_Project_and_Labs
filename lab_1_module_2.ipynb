{
  "nbformat": 4,
  "nbformat_minor": 0,
  "metadata": {
    "colab": {
      "provenance": [],
      "authorship_tag": "ABX9TyOl9EK62eDTiP/6Cxw5OwZy",
      "include_colab_link": true
    },
    "kernelspec": {
      "name": "python3",
      "display_name": "Python 3"
    },
    "language_info": {
      "name": "python"
    }
  },
  "cells": [
    {
      "cell_type": "markdown",
      "metadata": {
        "id": "view-in-github",
        "colab_type": "text"
      },
      "source": [
        "<a href=\"https://colab.research.google.com/github/harshithareddy2929/FMML_Project_and_Labs/blob/main/lab_1_module_2.ipynb\" target=\"_parent\"><img src=\"https://colab.research.google.com/assets/colab-badge.svg\" alt=\"Open In Colab\"/></a>"
      ]
    },
    {
      "cell_type": "markdown",
      "source": [],
      "metadata": {
        "id": "gwrWCVejOmlT"
      }
    },
    {
      "cell_type": "markdown",
      "source": [
        "#Question:\n",
        "Interpret the plot below. List all the interpretations point by point using the plot below. Some pointers:\n",
        "\n",
        "1) Think about the maximum/minimum values for each body-type, which body-type is the \"costliest\" ?\n",
        "\n",
        "2) Do you think maximum/minimum values are a clear indication of which body-type is costliest, or does the interpretation improve by also taking the interquartile range into consideration?\n",
        "\n",
        "3) Do you think the body-style of a car can be a good predictor for its price?\n",
        "\n",
        "[ ] sns.boxplot(x=X[\"body-style\"],y=y, palette=\"Set3\").set_title('Body style vs Price Box Plot') account_circle\n",
        "\n",
        "ANSWERS 1)A Maximum/Minimum Values:\n",
        "\n",
        "The box plot shows the spread of car prices for different body styles. The \"costliest\" body type in terms of maximum price appears to be the \"hardtop,\" as it has the highest upper whisker, indicating the presence of some expensive outliers. The \"hatchback\" body style has the lowest minimum price, as indicated by the lower whisker, suggesting it is the least expensive option.\n",
        "\n",
        "2)Interquartile Range (IQR):\n",
        "\n",
        "While looking at maximum and minimum values provides some insight into the costliest and least costly options, it's important to consider the interquartile range (IQR) for a better understanding. The IQR gives us the range within which the majority of prices for each body style fall. The \"convertible\" and \"hardtop\" body styles have relatively larger IQRs, indicating a wider range of prices within these categories. This suggests that they may offer both high-end and more affordable options. On the other hand, the \"sedan\" and \"wagon\" body styles have relatively smaller IQRs, suggesting that prices for these styles are more clustered around a central value.\n",
        "\n",
        "3)Predictive Power of Body Style:\n",
        "\n",
        "While the body style of a car can provide some information about its price, it's not the sole determinant. Other factors like brand, model, features, engine type, and market demand also influence car prices. The box plot shows variations in price within each body style, indicating that body style alone may not be a perfect predictor of a car's price. To make more accurate price predictions, a model would likely need to consider multiple features and factors beyond just body style.\n",
        "\n",
        "In summary, the box plot provides insights into how car prices vary among different body styles. It suggests that while body style can give some indication of price trends, it's not the only factor determining a car's price, and other features and factors should also be considered for accurate price predictio"
      ],
      "metadata": {
        "id": "2eJbbB_JOpo6"
      }
    }
  ]
}